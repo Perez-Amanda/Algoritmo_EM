{
 "cells": [
  {
   "cell_type": "markdown",
   "metadata": {},
   "source": [
    "# Trabalho II: Algoritmo EM - Inferência Estatística\n",
    "### Nome: Amanda de Mendonça Perez\n",
    "### Profº.: Luiz Max de Carvalho\n",
    "\n",
    "Este notebook buscou implementar o algoritmo EM, tema do segundo trabalho para a disciplina de Inferência Estatística. O material a seguir se propõe a aplicar as fórmulas encontradas (utilizando as bases teóricas desse algoritmo) para o aproximar o estimador de máxima verossimilhança em um problema envolvendo o lançamento de duas moedas cuja probabilidade de se obter cara é diferente. A moeda utilizada para cada sequência de lançamentos é obtida aleatoriamente com probabilidade $50\\%$, mas registra-se apenas os resultados de cada lançamento, sem saber qual das moedas foi selecionada. O objetivo do problema é estimar os parâmetros dessa distribuição lidando com a ausência de dados sobre a moeda selecionada a cada rodada. A teoria por trás desse algoritmo foi explicada no trabalho teórico entregue para a obtenção de nota na disciplina."
   ]
  },
  {
   "cell_type": "code",
   "execution_count": 290,
   "metadata": {},
   "outputs": [
    {
     "name": "stdout",
     "output_type": "stream",
     "text": [
      "Python 3.9.13\n"
     ]
    }
   ],
   "source": [
    "!python3 --version"
   ]
  },
  {
   "cell_type": "code",
   "execution_count": 297,
   "metadata": {},
   "outputs": [
    {
     "name": "stdout",
     "output_type": "stream",
     "text": [
      "Estimativa do algoritmo: (0.7089242770639296, 0.46180330968832883);\n",
      "Parâmetro gerador da simulação: (0.7, 0.45).\n"
     ]
    }
   ],
   "source": [
    "import random\n",
    "import numpy as np\n",
    "\n",
    "# Simulando o modelo\n",
    "def escolha_moeda(p1, p2):\n",
    "    p = random.choices([p1, p2], weights=[0.5,0.5])\n",
    "    return p\n",
    "\n",
    "m = 100    # lancamentos de uma mesma moeda\n",
    "n = 100    # vezes que a moeda é selecionada\n",
    "p1 = 0.70  # parâmetro da moeda 1\n",
    "p2 = 0.45  # parâmetro da moeda 2\n",
    "\n",
    "# Registrando os resultados de cada lançamento\n",
    "# Note que a moeda selecionada não é registrada\n",
    "X = np.zeros((n, m))\n",
    "for i in range(0,n):\n",
    "    p = escolha_moeda(p1, p2)\n",
    "    for j in range(0,m):\n",
    "        X[i,j] = random.choices([0,1], weights = [1-p[0], p[0]])[0]\n",
    "\n",
    "# Implementando o algoritmo EM para estimar p1 e p2\n",
    "def k(i, ix, theta, m, s):\n",
    "    '''\n",
    "    Retorna o valor da função auxiliar k.\n",
    "    ---\n",
    "    Parâmetros:\n",
    "        i: linha da matriz X sobre a qual estamos iterando;\n",
    "        ix: índice que indica se estamos calculando p1 (ix=0) ou p2 (ix=1);\n",
    "        theta: tupla com os valores de p1 e p2 da iteração anterior;\n",
    "        m: quantidade de colunas de X (i. e., número de lançamentos de uma mesma moeda);\n",
    "        s: vetor contendo as somas de cada linha de X.  \n",
    "    '''\n",
    "    numerador = ((1-theta[ix])**(m-s[i]))*((theta[ix])**(s[i]))\n",
    "    denominador = ((1-theta[0])**(m-s[i]))*((theta[0])**(s[i])) \n",
    "    denominador += ((1-theta[1])**(m-s[i]))*((theta[1])**(s[i]))\n",
    "    return numerador/denominador\n",
    "\n",
    "def new_theta(old_theta, m, s):\n",
    "    '''\n",
    "    Calcula o novo valor de theta a partir do theta utilizado\n",
    "    na iteração anterior.\n",
    "    ---\n",
    "    Parâmetros:\n",
    "        old_theta: theta da iteração anterior;\n",
    "        m: quantidade de colunas de X (i. e., número de lançamentos de uma mesma moeda);\n",
    "        s: vetor contendo as somas de cada linha de X.\n",
    "    '''\n",
    "    num_1, num_2, den_1, den_2 = 0, 0, 0, 0\n",
    "    for i in range(0,n):\n",
    "        num_1 += k(i, 0, old_theta, m, s)*s[i]\n",
    "        num_2 += k(i, 1, old_theta, m, s)*s[i]\n",
    "        den_1 += k(i, 0, old_theta, m, s)*m\n",
    "        den_2 += k(i, 1, old_theta, m, s)*m\n",
    "    return (num_1/den_1, num_2/den_2)  # retorna tupla com estimativa para (p1, p2)\n",
    "\n",
    "def vinganca_das_moedas(theta_inicial, X, epsilon = 0.001, iterac = 100):\n",
    "    '''\n",
    "    Utiliza o algoritmo EM para estimar os parâmetros p1 e p2 que geraram\n",
    "    os dados originais.\n",
    "    ---\n",
    "    Parâmetros:\n",
    "        theta_inicial: tupla contendo um \"chute\" inicial para os valores de theta;\n",
    "        X: matriz com os dados registrados dos lançamentos das moedas;\n",
    "        epsilon: critério de parada que considera a distância entre dois thetas consecutivos;\n",
    "        iterac: critério de parada que considera o número máximo de iterações.\n",
    "    '''\n",
    "    n = X.shape[0]\n",
    "    m = X.shape[1]\n",
    "    somas = np.array([X[i].sum() for i in range(0,n)])\n",
    "    counter = 0\n",
    "    while (True):  # garante a entrada no loop\n",
    "        novo_theta = new_theta(theta_inicial, m, somas)\n",
    "        counter+=1\n",
    "        if (((novo_theta[0] - theta_inicial[0])**2 + (novo_theta[1]-theta_inicial[1])**2 < epsilon) \\\n",
    "            or (counter >= 100)): # verifica se algum criterio de parada foi atendido\n",
    "            break  # caso sim, termina o loop\n",
    "        theta_inicial = novo_theta  # caso não, atualiza o theta inicial \n",
    "    return novo_theta\n",
    "\n",
    "# Testando com os dados gerados:\n",
    "estim = vinganca_das_moedas((0.51,0.49), X)\n",
    "real = (p1, p2)\n",
    "print(f'Estimativa do algoritmo: {estim};\\nParâmetro gerador da simulação: {real}.')"
   ]
  },
  {
   "cell_type": "code",
   "execution_count": 300,
   "metadata": {
    "scrolled": true
   },
   "outputs": [
    {
     "name": "stdout",
     "output_type": "stream",
     "text": [
      "Estimativa do algoritmo: (0.6019, 0.6019);\n",
      "Parâmetro gerador da simulação: (0.7, 0.45).\n"
     ]
    }
   ],
   "source": [
    "# Testando com o chute inicial com p1 = p2:\n",
    "estim = vinganca_das_moedas((0.5,0.5), X)\n",
    "real = (p1, p2)\n",
    "print(f'Estimativa do algoritmo: {estim};\\nParâmetro gerador da simulação: {real}.')"
   ]
  }
 ],
 "metadata": {
  "kernelspec": {
   "display_name": "Python 3",
   "language": "python",
   "name": "python3"
  },
  "language_info": {
   "codemirror_mode": {
    "name": "ipython",
    "version": 3
   },
   "file_extension": ".py",
   "mimetype": "text/x-python",
   "name": "python",
   "nbconvert_exporter": "python",
   "pygments_lexer": "ipython3",
   "version": "3.8.5"
  }
 },
 "nbformat": 4,
 "nbformat_minor": 4
}
